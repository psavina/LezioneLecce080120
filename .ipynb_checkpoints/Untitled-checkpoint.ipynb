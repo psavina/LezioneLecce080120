{
 "cells": [
  {
   "cell_type": "markdown",
   "metadata": {},
   "source": [
    "## Exercise using supervised learning\n",
    "## Photon - Hadron primary Cosmic Ray discrimination using ML\n",
    "\n",
    "### 1. Data\n",
    "\n",
    "The signatures of a photon induced air shower are a large atmopheric depth at the shower maximum ($X_{\\text{max}}$) and a lower number of muons that reach the ground ($N_{\\mu}$) with respect to the bulk of hadron-induced background. \n",
    "\n",
    "<img src=\"images/diffPrim.png\" width=\"60%\"/>\n",
    "\n",
    "Root files with signals (photon) and background (proton) simulations can be found here:\n",
    "\n",
    "- [Protons](http://www.dmf.unisalento.it/~lorenzo/LabAnalisi2019/photon_hadron/conex_eposlhc_1301560476_100.root)\n",
    "- [Photons](http://www.dmf.unisalento.it/~lorenzo/LabAnalisi2019/photon_hadron/conex_eposlhc_2086832343_0.root)\n",
    "\n",
    "Download the files and put them all under a files/ directory.\n",
    "\n",
    "Each root file contains 2 TTrees with name \"Header\" and \"Shower\". \n",
    "\n",
    "We will use the TTree named **Shower** that is filled with a set of variables the describes the shower development.\n",
    "\n"
   ]
  },
  {
   "cell_type": "markdown",
   "metadata": {},
   "source": [
    "### 2. Load Data"
   ]
  },
  {
   "cell_type": "code",
   "execution_count": 1,
   "metadata": {},
   "outputs": [],
   "source": [
    "import uproot\n",
    "import numpy as np\n",
    "import pandas as pd"
   ]
  },
  {
   "cell_type": "code",
   "execution_count": 2,
   "metadata": {},
   "outputs": [
    {
     "name": "stdout",
     "output_type": "stream",
     "text": [
      "loadingfiles/conex_eposlhc_1301560476_100.root...\n",
      "loadingfiles/conex_eposlhc_2086832343_0.root...\n"
     ]
    },
    {
     "data": {
      "text/html": [
       "<div>\n",
       "<style scoped>\n",
       "    .dataframe tbody tr th:only-of-type {\n",
       "        vertical-align: middle;\n",
       "    }\n",
       "\n",
       "    .dataframe tbody tr th {\n",
       "        vertical-align: top;\n",
       "    }\n",
       "\n",
       "    .dataframe thead th {\n",
       "        text-align: right;\n",
       "    }\n",
       "</style>\n",
       "<table border=\"1\" class=\"dataframe\">\n",
       "  <thead>\n",
       "    <tr style=\"text-align: right;\">\n",
       "      <th></th>\n",
       "      <th>lgE</th>\n",
       "      <th>zenith</th>\n",
       "      <th>azimuth</th>\n",
       "      <th>Seed2</th>\n",
       "      <th>Seed3</th>\n",
       "      <th>Xfirst</th>\n",
       "      <th>Hfirst</th>\n",
       "      <th>XfirstIn</th>\n",
       "      <th>altitude</th>\n",
       "      <th>X0</th>\n",
       "      <th>...</th>\n",
       "      <th>Mu</th>\n",
       "      <th>Gamma</th>\n",
       "      <th>Electrons</th>\n",
       "      <th>Hadrons</th>\n",
       "      <th>dMu</th>\n",
       "      <th>EGround[0]</th>\n",
       "      <th>EGround[1]</th>\n",
       "      <th>EGround[2]</th>\n",
       "      <th>isSignal</th>\n",
       "      <th>lgM</th>\n",
       "    </tr>\n",
       "    <tr>\n",
       "      <th>entry</th>\n",
       "      <th></th>\n",
       "      <th></th>\n",
       "      <th></th>\n",
       "      <th></th>\n",
       "      <th></th>\n",
       "      <th></th>\n",
       "      <th></th>\n",
       "      <th></th>\n",
       "      <th></th>\n",
       "      <th></th>\n",
       "      <th></th>\n",
       "      <th></th>\n",
       "      <th></th>\n",
       "      <th></th>\n",
       "      <th></th>\n",
       "      <th></th>\n",
       "      <th></th>\n",
       "      <th></th>\n",
       "      <th></th>\n",
       "      <th></th>\n",
       "      <th></th>\n",
       "    </tr>\n",
       "  </thead>\n",
       "  <tbody>\n",
       "    <tr>\n",
       "      <th>0</th>\n",
       "      <td>19.0</td>\n",
       "      <td>42.113396</td>\n",
       "      <td>189.584000</td>\n",
       "      <td>2</td>\n",
       "      <td>0</td>\n",
       "      <td>49.465561</td>\n",
       "      <td>22804.845703</td>\n",
       "      <td>0.771406</td>\n",
       "      <td>0.0</td>\n",
       "      <td>-17.030006</td>\n",
       "      <td>...</td>\n",
       "      <td>[0.0, 0.0, 0.0, 0.0, 0.0, 3.0, 406.45108, 1994...</td>\n",
       "      <td>[0.0, 0.0, 0.0, 0.0, 0.0, 153.0, 2858.8293, 13...</td>\n",
       "      <td>[0.0, 0.0, 0.0, 0.0, 0.0, 2.0, 516.02405, 3005...</td>\n",
       "      <td>[0.0, 0.0, 0.0, 0.0, 0.0, 2.0, 516.02405, 3005...</td>\n",
       "      <td>[0.0, 0.0, 0.0, 0.0, 3.0, 119.0, 292.53226, 16...</td>\n",
       "      <td>1.828931e+09</td>\n",
       "      <td>186608512.0</td>\n",
       "      <td>411972960.0</td>\n",
       "      <td>0</td>\n",
       "      <td>17.487558</td>\n",
       "    </tr>\n",
       "    <tr>\n",
       "      <th>1</th>\n",
       "      <td>19.0</td>\n",
       "      <td>64.686783</td>\n",
       "      <td>190.974121</td>\n",
       "      <td>20813321</td>\n",
       "      <td>0</td>\n",
       "      <td>0.080164</td>\n",
       "      <td>74079.867188</td>\n",
       "      <td>0.568334</td>\n",
       "      <td>0.0</td>\n",
       "      <td>0.000981</td>\n",
       "      <td>...</td>\n",
       "      <td>[0.0, 416.1128, 1112.039, 2539.396, 4835.578, ...</td>\n",
       "      <td>[0.0, 1443.9126, 5662.6816, 15681.792, 36611.8...</td>\n",
       "      <td>[0.0, 316.96448, 1539.4109, 4734.8926, 11634.9...</td>\n",
       "      <td>[0.0, 316.96448, 1539.4109, 4734.8926, 11634.9...</td>\n",
       "      <td>[482.0, 0.0, 795.2412, 1556.7816, 2555.951, 43...</td>\n",
       "      <td>1.617487e+06</td>\n",
       "      <td>256983.0</td>\n",
       "      <td>245991952.0</td>\n",
       "      <td>0</td>\n",
       "      <td>16.225085</td>\n",
       "    </tr>\n",
       "    <tr>\n",
       "      <th>2</th>\n",
       "      <td>19.0</td>\n",
       "      <td>24.087521</td>\n",
       "      <td>17.671724</td>\n",
       "      <td>41835088</td>\n",
       "      <td>0</td>\n",
       "      <td>24.475702</td>\n",
       "      <td>26047.343750</td>\n",
       "      <td>0.351258</td>\n",
       "      <td>0.0</td>\n",
       "      <td>-61.518585</td>\n",
       "      <td>...</td>\n",
       "      <td>[0.0, 0.0, 0.0, 45.61418, 131.5208, 323.28088,...</td>\n",
       "      <td>[0.0, 0.0, 0.0, 167.6201, 686.22015, 1905.5466...</td>\n",
       "      <td>[0.0, 0.0, 0.0, 32.0, 164.37715, 543.98645, 13...</td>\n",
       "      <td>[0.0, 0.0, 0.0, 32.0, 164.37715, 543.98645, 13...</td>\n",
       "      <td>[0.0, 0.0, 50.0, 0.0, 90.52828, 202.23418, 317...</td>\n",
       "      <td>3.225063e+09</td>\n",
       "      <td>205676464.0</td>\n",
       "      <td>303233664.0</td>\n",
       "      <td>0</td>\n",
       "      <td>17.292838</td>\n",
       "    </tr>\n",
       "    <tr>\n",
       "      <th>3</th>\n",
       "      <td>19.0</td>\n",
       "      <td>33.320518</td>\n",
       "      <td>333.506897</td>\n",
       "      <td>96865739</td>\n",
       "      <td>0</td>\n",
       "      <td>50.033607</td>\n",
       "      <td>21972.882812</td>\n",
       "      <td>0.764738</td>\n",
       "      <td>0.0</td>\n",
       "      <td>-0.002576</td>\n",
       "      <td>...</td>\n",
       "      <td>[0.0, 0.0, 0.0, 0.0, 0.0, 0.0, 954.91364, 4488...</td>\n",
       "      <td>[0.0, 0.0, 0.02083382, 3.0126808, 7.41975, 10....</td>\n",
       "      <td>[0.0, 1.0, -0.036147255, 4.00067, 0.9726168, 4...</td>\n",
       "      <td>[0.0, 1.0, -0.036147255, 4.00067, 0.9726168, 4...</td>\n",
       "      <td>[0.0, 0.0, 0.0, 0.0, 0.0, 981.0, 26.0, 3946.65...</td>\n",
       "      <td>1.337334e+09</td>\n",
       "      <td>207511680.0</td>\n",
       "      <td>546748608.0</td>\n",
       "      <td>0</td>\n",
       "      <td>17.783326</td>\n",
       "    </tr>\n",
       "    <tr>\n",
       "      <th>4</th>\n",
       "      <td>19.0</td>\n",
       "      <td>25.406040</td>\n",
       "      <td>119.022118</td>\n",
       "      <td>169528657</td>\n",
       "      <td>0</td>\n",
       "      <td>96.891968</td>\n",
       "      <td>17230.507812</td>\n",
       "      <td>0.860217</td>\n",
       "      <td>0.0</td>\n",
       "      <td>37.639599</td>\n",
       "      <td>...</td>\n",
       "      <td>[0.0, 0.0, 0.0, 0.0, 0.0, 0.0, 0.0, 0.0, 0.0, ...</td>\n",
       "      <td>[0.0, 0.0, 0.0, 0.0, 0.0, 0.0, 0.0, 1.0, 0.737...</td>\n",
       "      <td>[0.0, 0.0, 0.0, 0.0, 0.0, 0.0, 0.0, 0.0, 0.002...</td>\n",
       "      <td>[0.0, 0.0, 0.0, 0.0, 0.0, 0.0, 0.0, 0.0, 0.002...</td>\n",
       "      <td>[0.0, 0.0, 0.0, 0.0, 0.0, 0.0, 0.0, 0.0, 0.0, ...</td>\n",
       "      <td>2.681258e+09</td>\n",
       "      <td>312363840.0</td>\n",
       "      <td>439733088.0</td>\n",
       "      <td>0</td>\n",
       "      <td>17.663398</td>\n",
       "    </tr>\n",
       "  </tbody>\n",
       "</table>\n",
       "<p>5 rows × 37 columns</p>\n",
       "</div>"
      ],
      "text/plain": [
       "        lgE     zenith     azimuth      Seed2  Seed3     Xfirst        Hfirst  \\\n",
       "entry                                                                           \n",
       "0      19.0  42.113396  189.584000          2      0  49.465561  22804.845703   \n",
       "1      19.0  64.686783  190.974121   20813321      0   0.080164  74079.867188   \n",
       "2      19.0  24.087521   17.671724   41835088      0  24.475702  26047.343750   \n",
       "3      19.0  33.320518  333.506897   96865739      0  50.033607  21972.882812   \n",
       "4      19.0  25.406040  119.022118  169528657      0  96.891968  17230.507812   \n",
       "\n",
       "       XfirstIn  altitude         X0  ...  \\\n",
       "entry                                 ...   \n",
       "0      0.771406       0.0 -17.030006  ...   \n",
       "1      0.568334       0.0   0.000981  ...   \n",
       "2      0.351258       0.0 -61.518585  ...   \n",
       "3      0.764738       0.0  -0.002576  ...   \n",
       "4      0.860217       0.0  37.639599  ...   \n",
       "\n",
       "                                                      Mu  \\\n",
       "entry                                                      \n",
       "0      [0.0, 0.0, 0.0, 0.0, 0.0, 3.0, 406.45108, 1994...   \n",
       "1      [0.0, 416.1128, 1112.039, 2539.396, 4835.578, ...   \n",
       "2      [0.0, 0.0, 0.0, 45.61418, 131.5208, 323.28088,...   \n",
       "3      [0.0, 0.0, 0.0, 0.0, 0.0, 0.0, 954.91364, 4488...   \n",
       "4      [0.0, 0.0, 0.0, 0.0, 0.0, 0.0, 0.0, 0.0, 0.0, ...   \n",
       "\n",
       "                                                   Gamma  \\\n",
       "entry                                                      \n",
       "0      [0.0, 0.0, 0.0, 0.0, 0.0, 153.0, 2858.8293, 13...   \n",
       "1      [0.0, 1443.9126, 5662.6816, 15681.792, 36611.8...   \n",
       "2      [0.0, 0.0, 0.0, 167.6201, 686.22015, 1905.5466...   \n",
       "3      [0.0, 0.0, 0.02083382, 3.0126808, 7.41975, 10....   \n",
       "4      [0.0, 0.0, 0.0, 0.0, 0.0, 0.0, 0.0, 1.0, 0.737...   \n",
       "\n",
       "                                               Electrons  \\\n",
       "entry                                                      \n",
       "0      [0.0, 0.0, 0.0, 0.0, 0.0, 2.0, 516.02405, 3005...   \n",
       "1      [0.0, 316.96448, 1539.4109, 4734.8926, 11634.9...   \n",
       "2      [0.0, 0.0, 0.0, 32.0, 164.37715, 543.98645, 13...   \n",
       "3      [0.0, 1.0, -0.036147255, 4.00067, 0.9726168, 4...   \n",
       "4      [0.0, 0.0, 0.0, 0.0, 0.0, 0.0, 0.0, 0.0, 0.002...   \n",
       "\n",
       "                                                 Hadrons  \\\n",
       "entry                                                      \n",
       "0      [0.0, 0.0, 0.0, 0.0, 0.0, 2.0, 516.02405, 3005...   \n",
       "1      [0.0, 316.96448, 1539.4109, 4734.8926, 11634.9...   \n",
       "2      [0.0, 0.0, 0.0, 32.0, 164.37715, 543.98645, 13...   \n",
       "3      [0.0, 1.0, -0.036147255, 4.00067, 0.9726168, 4...   \n",
       "4      [0.0, 0.0, 0.0, 0.0, 0.0, 0.0, 0.0, 0.0, 0.002...   \n",
       "\n",
       "                                                     dMu    EGround[0]  \\\n",
       "entry                                                                    \n",
       "0      [0.0, 0.0, 0.0, 0.0, 3.0, 119.0, 292.53226, 16...  1.828931e+09   \n",
       "1      [482.0, 0.0, 795.2412, 1556.7816, 2555.951, 43...  1.617487e+06   \n",
       "2      [0.0, 0.0, 50.0, 0.0, 90.52828, 202.23418, 317...  3.225063e+09   \n",
       "3      [0.0, 0.0, 0.0, 0.0, 0.0, 981.0, 26.0, 3946.65...  1.337334e+09   \n",
       "4      [0.0, 0.0, 0.0, 0.0, 0.0, 0.0, 0.0, 0.0, 0.0, ...  2.681258e+09   \n",
       "\n",
       "        EGround[1]   EGround[2]  isSignal        lgM  \n",
       "entry                                                 \n",
       "0      186608512.0  411972960.0         0  17.487558  \n",
       "1         256983.0  245991952.0         0  16.225085  \n",
       "2      205676464.0  303233664.0         0  17.292838  \n",
       "3      207511680.0  546748608.0         0  17.783326  \n",
       "4      312363840.0  439733088.0         0  17.663398  \n",
       "\n",
       "[5 rows x 37 columns]"
      ]
     },
     "execution_count": 2,
     "metadata": {},
     "output_type": "execute_result"
    }
   ],
   "source": [
    "filesDict = {\n",
    "    \"protons\": \"files/conex_eposlhc_1301560476_100.root\",\n",
    "    \"photons\": \"files/conex_eposlhc_2086832343_0.root\"\n",
    "}\n",
    "\n",
    "dfDict = {} # dataframe dict\n",
    "\n",
    "for key in filesDict: #for each primary type\n",
    "    print('loading'+filesDict[key]+'...')\n",
    "    \n",
    "    #flatten=False because our tree contains arrays\n",
    "    dfDict[key] = uproot.open( filesDict[key] )['Shower'].pandas.df(flatten=False)\n",
    "    \n",
    "    #add a column with an int that declares whether the event is signal(=1) or backround (=0).\n",
    "    if key == 'photons':\n",
    "        dfDict[key]['isSignal'] = 1\n",
    "    else:\n",
    "        dfDict[key]['isSignal'] = 0\n",
    "        \n",
    "    # log of the number of muons in the final step  \n",
    "    dfDict[key]['lgM'] = np.log(dfDict[key]['Mu'].str[-1])\n",
    "\n",
    "#dfDict['photons'].head()\n",
    "dfDict['protons'].head()"
   ]
  },
  {
   "cell_type": "markdown",
   "metadata": {},
   "source": [
    "### 3. Data Set\n",
    "\n",
    "In the **Shower** TTree several parameters can be identified.\n",
    "Some of them are properties of the primary particle, the others\n",
    "describe the shower development as a function of the grammage $X$.\n",
    "\n",
    "The most usefull in our case are:\n",
    "\n",
    "- lgE: $\\log_{10} \\left( E/\\mathrm{[eV]} \\right)$;\n",
    "- nX: number of grammage levels considered in the calculations;\n",
    "- Xmx: $X_{\\text{max}}$ $[\\mathrm{gr} / \\mathrm{cm}^2]$;\n",
    "- Mu[i]: number of muons at the $i$-th grammage value. \n",
    "- "
   ]
  },
  {
   "cell_type": "markdown",
   "metadata": {},
   "source": [
    "#### Profile example:"
   ]
  },
  {
   "cell_type": "code",
   "execution_count": 3,
   "metadata": {},
   "outputs": [
    {
     "data": {
      "image/png": "[encoded data removed]",
      "text/plain": [
       "<Figure size 1152x432 with 2 Axes>"
      ]
     },
     "metadata": {
      "needs_background": "light"
     },
     "output_type": "display_data"
    }
   ],
   "source": [
    "import matplotlib.pyplot as plt\n",
    "%matplotlib inline\n",
    "\n",
    "#plt.figure(figsize=(8,6)) #inches\n",
    "fig, ax = plt.subplots(1, 2, figsize=(16,6))#inches \n",
    "#ax1.figure(figsize=(8,6)) #inches\n",
    "\n",
    "ax[0].plot( dfDict['protons']['X'].iloc[71], dfDict['protons']['N'].iloc[71], 'ro-',linewidth=2, markersize=4, label='$p$' )\n",
    "ax[0].plot( dfDict['photons']['X'].iloc[339],dfDict['photons']['N'].iloc[339], 'bo-',linewidth=2, markersize=4, label='$\\gamma$' )\n",
    "ax[1].plot( dfDict['protons']['X'].iloc[71], dfDict['protons']['Mu'].iloc[71], 'ro-',linewidth=2, markersize=4, label='$p_\\mu$' )\n",
    "ax[1].plot( dfDict['photons']['X'].iloc[339],dfDict['photons']['Mu'].iloc[339], 'bo-',linewidth=2, markersize=4, label='$\\gamma_\\mu$' )\n",
    "\n",
    "ax[0].set_ylabel('N particles', fontsize=18)\n",
    "ax[1].set_ylabel('N muons', fontsize=18)\n",
    "\n",
    "for a in ax:\n",
    "    a.set_xlim(0,1300)\n",
    "    a.set_xlabel('X [gr/cm$^2$]', fontsize=18)\n",
    "    a.legend(loc='upper left', fontsize='xx-large')\n",
    "\n",
    "#fig.show() this line generate a warning inside jupyter "
   ]
  },
  {
   "cell_type": "markdown",
   "metadata": {},
   "source": [
    "#### Preparing data as inputs to a DNN"
   ]
  },
  {
   "cell_type": "code",
   "execution_count": 4,
   "metadata": {},
   "outputs": [],
   "source": [
    "for key in dfDict:\n",
    "    s  = \"files/\"\n",
    "    s += key\n",
    "    s += \".pkl\"\n",
    "    dfDict[key].to_pickle(s)"
   ]
  },
  {
   "cell_type": "markdown",
   "metadata": {},
   "source": [
    "#### Preparing signal and background inputs and data shuffling"
   ]
  },
  {
   "cell_type": "code",
   "execution_count": 5,
   "metadata": {},
   "outputs": [
    {
     "name": "stdout",
     "output_type": "stream",
     "text": [
      "Total events after shuffling:  (2000, 37)\n"
     ]
    }
   ],
   "source": [
    "import sklearn.utils\n",
    "\n",
    "def Shuffling(df, mSeed=130392):\n",
    "    df = sklearn.utils.shuffle(df,random_state=mSeed)\n",
    "    df = df.reset_index(drop=True)\n",
    "    return df\n",
    "\n",
    "sDfDict = {}\n",
    "\n",
    "for key in dfDict:\n",
    "    sDfDict[key] = Shuffling(dfDict[key])\n",
    "    \n",
    "    \n",
    "signList = [sDfDict['photons'][:1000]]\n",
    "dfSignal = pd.concat( signList, ignore_index=True)\n",
    "backList = [sDfDict['protons'][:1000]]\n",
    "dfBackgr = pd.concat( backList, ignore_index=True)\n",
    "\n",
    "dfTotal = Shuffling( pd.concat( [dfSignal, dfBackgr], ignore_index=True) )\n",
    "print (\"Total events after shuffling: \",dfTotal.shape)\n",
    "dfTotal.to_pickle( 'files/mixData.pkl' )"
   ]
  },
  {
   "cell_type": "markdown",
   "metadata": {},
   "source": [
    "### 4. Building and Training a Deep Neural Network with Keras"
   ]
  },
  {
   "cell_type": "code",
   "execution_count": 6,
   "metadata": {},
   "outputs": [],
   "source": [
    "inputs = ['Xmx','lgM']\n",
    "\n",
    "X = dfTotal[inputs].values\n",
    "tmpY = dfTotal['isSignal']"
   ]
  },
  {
   "cell_type": "code",
   "execution_count": 7,
   "metadata": {},
   "outputs": [],
   "source": [
    "from sklearn.preprocessing import StandardScaler,LabelEncoder\n",
    "scaler = StandardScaler()\n",
    "X = scaler.fit_transform(X)\n",
    "\n",
    "le = LabelEncoder()\n",
    "y = le.fit_transform(tmpY)"
   ]
  },
  {
   "cell_type": "code",
   "execution_count": 8,
   "metadata": {},
   "outputs": [
    {
     "data": {
      "text/plain": [
       "(600, 2)"
      ]
     },
     "execution_count": 8,
     "metadata": {},
     "output_type": "execute_result"
    }
   ],
   "source": [
    "from sklearn.model_selection import train_test_split\n",
    "X_train, X_test, y_train, y_test = train_test_split(X, y, train_size=0.7,random_state=123)\n",
    "\n",
    "X_train.shape\n",
    "X_test.shape"
   ]
  },
  {
   "cell_type": "code",
   "execution_count": 9,
   "metadata": {},
   "outputs": [
    {
     "ename": "ModuleNotFoundError",
     "evalue": "No module named 'keras'",
     "output_type": "error",
     "traceback": [
      "\u001b[0;31m---------------------------------------------------------------------------\u001b[0m",
      "\u001b[0;31mModuleNotFoundError\u001b[0m                       Traceback (most recent call last)",
      "\u001b[0;32m<ipython-input-9-086d0ec8038a>\u001b[0m in \u001b[0;36m<module>\u001b[0;34m\u001b[0m\n\u001b[0;32m----> 1\u001b[0;31m \u001b[0;32mfrom\u001b[0m \u001b[0mkeras\u001b[0m\u001b[0;34m.\u001b[0m\u001b[0mmodels\u001b[0m \u001b[0;32mimport\u001b[0m \u001b[0mModel\u001b[0m\u001b[0;34m,\u001b[0m \u001b[0mSequential\u001b[0m\u001b[0;34m\u001b[0m\u001b[0;34m\u001b[0m\u001b[0m\n\u001b[0m\u001b[1;32m      2\u001b[0m \u001b[0;32mfrom\u001b[0m \u001b[0mkeras\u001b[0m\u001b[0;34m.\u001b[0m\u001b[0mlayers\u001b[0m \u001b[0;32mimport\u001b[0m \u001b[0mDense\u001b[0m\u001b[0;34m,\u001b[0m \u001b[0mDropout\u001b[0m\u001b[0;34m,\u001b[0m \u001b[0mInput\u001b[0m\u001b[0;34m,\u001b[0m \u001b[0mBatchNormalization\u001b[0m\u001b[0;34m\u001b[0m\u001b[0;34m\u001b[0m\u001b[0m\n\u001b[1;32m      3\u001b[0m \u001b[0;32mfrom\u001b[0m \u001b[0mkeras\u001b[0m\u001b[0;34m.\u001b[0m\u001b[0mcallbacks\u001b[0m \u001b[0;32mimport\u001b[0m \u001b[0mEarlyStopping\u001b[0m\u001b[0;34m,\u001b[0m \u001b[0mModelCheckpoint\u001b[0m\u001b[0;34m\u001b[0m\u001b[0;34m\u001b[0m\u001b[0m\n\u001b[1;32m      4\u001b[0m \u001b[0;32mfrom\u001b[0m \u001b[0mkeras\u001b[0m\u001b[0;34m.\u001b[0m\u001b[0mlayers\u001b[0m\u001b[0;34m.\u001b[0m\u001b[0mcore\u001b[0m \u001b[0;32mimport\u001b[0m \u001b[0mDense\u001b[0m\u001b[0;34m,\u001b[0m \u001b[0mActivation\u001b[0m\u001b[0;34m\u001b[0m\u001b[0;34m\u001b[0m\u001b[0m\n\u001b[1;32m      5\u001b[0m \u001b[0;34m\u001b[0m\u001b[0m\n",
      "\u001b[0;31mModuleNotFoundError\u001b[0m: No module named 'keras'"
     ]
    }
   ],
   "source": [
    "from keras.models import Model, Sequential\n",
    "from keras.layers import Dense, Dropout, Input, BatchNormalization\n",
    "from keras.callbacks import EarlyStopping, ModelCheckpoint\n",
    "from keras.layers.core import Dense, Activation\n",
    "\n",
    "def BuildDNN(N_input,width,depth):\n",
    "    model = Sequential()\n",
    "    model.add(Dense(units=width, input_dim=N_input))  # First layer\n",
    "    model.add(Activation('relu'))\n",
    "    model.add(Dropout(0.2))\n",
    "\n",
    "    for i in range(0, depth):\n",
    "        model.add(Dense(width))\n",
    "        model.add(Activation('relu'))\n",
    "        # Dropout randomly sets a fraction of input units to 0 at each update during training time\n",
    "        # which helps prevent overfitting.\n",
    "        model.add(Dropout(0.2)) \n",
    "\n",
    "    model.add(Dense(1, activation='sigmoid'))  # Output layer/node \n",
    "\n",
    "    return model\n",
    "\n",
    "\n",
    "n_dim=X_train.shape[1]\n",
    "n_nodes = 32\n",
    "n_depth = 2 # number of additional hidden layers"
   ]
  },
  {
   "cell_type": "code",
   "execution_count": null,
   "metadata": {},
   "outputs": [],
   "source": []
  }
 ],
 "metadata": {
  "kernelspec": {
   "display_name": "Python 3",
   "language": "python",
   "name": "python3"
  },
  "language_info": {
   "codemirror_mode": {
    "name": "ipython",
    "version": 3
   },
   "file_extension": ".py",
   "mimetype": "text/x-python",
   "name": "python",
   "nbconvert_exporter": "python",
   "pygments_lexer": "ipython3",
   "version": "3.8.0"
  }
 },
 "nbformat": 4,
 "nbformat_minor": 2
}
